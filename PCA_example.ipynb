{
 "cells": [
  {
   "cell_type": "code",
   "execution_count": 1,
   "id": "640de09e",
   "metadata": {},
   "outputs": [],
   "source": [
    "import numpy as np\n",
    "import pandas as pd\n",
    "from sklearn.decomposition import PCA\n",
    "from sklearn import datasets\n",
    "import matplotlib.pyplot as plt"
   ]
  },
  {
   "cell_type": "code",
   "execution_count": 2,
   "id": "8e923a48",
   "metadata": {},
   "outputs": [
    {
     "name": "stdout",
     "output_type": "stream",
     "text": [
      "(150, 4)\n"
     ]
    }
   ],
   "source": [
    "# load the sklearn built-in dataset, a 150 rows and 4 columns numpy array\n",
    "iris = datasets.load_iris()\n",
    "X = iris.data\n",
    "print(X.shape)"
   ]
  },
  {
   "cell_type": "code",
   "execution_count": 3,
   "id": "06d4f7a2",
   "metadata": {},
   "outputs": [
    {
     "name": "stdout",
     "output_type": "stream",
     "text": [
      "(150, 4)\n",
      "[0.92461872 0.05306648 0.01710261 0.00521218]\n"
     ]
    }
   ],
   "source": [
    "# sklearn PCA can specify the number of PCs you intend to compute\n",
    "# The following two lines were used to compute the PCs\n",
    "pca = PCA(n_components=4)\n",
    "pca_result = pca.fit_transform(X, y=None)\n",
    "print(pca_result.shape)\n",
    "# The following line was used to compute the variation of each PC\n",
    "pca_result_var = np.var(pca_result, axis=0) / np.sum(np.var(pca_result, axis=0))\n",
    "print(pca_result_var)"
   ]
  },
  {
   "cell_type": "code",
   "execution_count": 4,
   "id": "a570dc6c",
   "metadata": {},
   "outputs": [
    {
     "data": {
      "text/html": [
       "<div>\n",
       "<style scoped>\n",
       "    .dataframe tbody tr th:only-of-type {\n",
       "        vertical-align: middle;\n",
       "    }\n",
       "\n",
       "    .dataframe tbody tr th {\n",
       "        vertical-align: top;\n",
       "    }\n",
       "\n",
       "    .dataframe thead th {\n",
       "        text-align: right;\n",
       "    }\n",
       "</style>\n",
       "<table border=\"1\" class=\"dataframe\">\n",
       "  <thead>\n",
       "    <tr style=\"text-align: right;\">\n",
       "      <th></th>\n",
       "      <th>PC1</th>\n",
       "      <th>PC2</th>\n",
       "      <th>PC3</th>\n",
       "      <th>PC4</th>\n",
       "    </tr>\n",
       "  </thead>\n",
       "  <tbody>\n",
       "    <tr>\n",
       "      <th>sepal length (cm)</th>\n",
       "      <td>0.361387</td>\n",
       "      <td>0.656589</td>\n",
       "      <td>-0.582030</td>\n",
       "      <td>-0.315487</td>\n",
       "    </tr>\n",
       "    <tr>\n",
       "      <th>sepal width (cm)</th>\n",
       "      <td>-0.084523</td>\n",
       "      <td>0.730161</td>\n",
       "      <td>0.597911</td>\n",
       "      <td>0.319723</td>\n",
       "    </tr>\n",
       "    <tr>\n",
       "      <th>petal length (cm)</th>\n",
       "      <td>0.856671</td>\n",
       "      <td>-0.173373</td>\n",
       "      <td>0.076236</td>\n",
       "      <td>0.479839</td>\n",
       "    </tr>\n",
       "    <tr>\n",
       "      <th>petal width (cm)</th>\n",
       "      <td>0.358289</td>\n",
       "      <td>-0.075481</td>\n",
       "      <td>0.545831</td>\n",
       "      <td>-0.753657</td>\n",
       "    </tr>\n",
       "  </tbody>\n",
       "</table>\n",
       "</div>"
      ],
      "text/plain": [
       "                        PC1       PC2       PC3       PC4\n",
       "sepal length (cm)  0.361387  0.656589 -0.582030 -0.315487\n",
       "sepal width (cm)  -0.084523  0.730161  0.597911  0.319723\n",
       "petal length (cm)  0.856671 -0.173373  0.076236  0.479839\n",
       "petal width (cm)   0.358289 -0.075481  0.545831 -0.753657"
      ]
     },
     "metadata": {},
     "output_type": "display_data"
    }
   ],
   "source": [
    "# Next, we compute the coefficient of PC which is also named as \"loadings\".\n",
    "loadings = pd.DataFrame(pca.components_.T, columns=['PC1', 'PC2', 'PC3', 'PC4'], index=iris.feature_names)\n",
    "display(loadings)"
   ]
  },
  {
   "cell_type": "code",
   "execution_count": 5,
   "id": "e2a1b606",
   "metadata": {},
   "outputs": [
    {
     "data": {
      "text/plain": [
       "Text(0, 0.5, 'Principle Component 2')"
      ]
     },
     "execution_count": 5,
     "metadata": {},
     "output_type": "execute_result"
    },
    {
     "data": {
      "image/png": "[encoded data removed]",
      "text/plain": [
       "<Figure size 432x288 with 1 Axes>"
      ]
     },
     "metadata": {
      "needs_background": "light"
     },
     "output_type": "display_data"
    }
   ],
   "source": [
    "# scatter plot show PC1 and PC2\n",
    "plt.figure(1)\n",
    "plt.scatter(pca_result[:, 0], pca_result[:, 1])\n",
    "plt.xlabel(\"Principle Component 1\")\n",
    "plt.ylabel(\"Principle Component 2\")"
   ]
  },
  {
   "cell_type": "code",
   "execution_count": 6,
   "id": "8437b01e",
   "metadata": {},
   "outputs": [
    {
     "data": {
      "text/plain": [
       "([<matplotlib.axis.XTick at 0x7fe156222490>,\n",
       "  <matplotlib.axis.XTick at 0x7fe156222460>,\n",
       "  <matplotlib.axis.XTick at 0x7fe156216fd0>,\n",
       "  <matplotlib.axis.XTick at 0x7fe1561ce1c0>],\n",
       " [Text(0, 0, ''), Text(0, 0, ''), Text(0, 0, ''), Text(0, 0, '')])"
      ]
     },
     "execution_count": 6,
     "metadata": {},
     "output_type": "execute_result"
    },
    {
     "data": {
      "image/png": "[encoded data removed]",
      "text/plain": [
       "<Figure size 432x288 with 1 Axes>"
      ]
     },
     "metadata": {
      "needs_background": "light"
     },
     "output_type": "display_data"
    }
   ],
   "source": [
    "# Variance explanation of each PC\n",
    "plt.figure(2)\n",
    "x_range = np.arange(1, len(pca_result_var) + 1)\n",
    "plt.plot(x_range, pca_result_var, \"o-\")\n",
    "plt.xlabel(\"Principle Component\")\n",
    "plt.ylabel(\"Variation Explained\")\n",
    "plt.xticks(np.arange(1, len(pca_result_var) + 1, 1.0))"
   ]
  }
 ],
 "metadata": {
  "kernelspec": {
   "display_name": "Python 3",
   "language": "python",
   "name": "python3"
  },
  "language_info": {
   "codemirror_mode": {
    "name": "ipython",
    "version": 3
   },
   "file_extension": ".py",
   "mimetype": "text/x-python",
   "name": "python",
   "nbconvert_exporter": "python",
   "pygments_lexer": "ipython3",
   "version": "3.8.3"
  }
 },
 "nbformat": 4,
 "nbformat_minor": 5
}
